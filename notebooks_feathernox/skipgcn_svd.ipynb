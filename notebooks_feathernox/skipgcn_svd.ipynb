{
 "cells": [
  {
   "cell_type": "code",
   "execution_count": 1,
   "metadata": {},
   "outputs": [],
   "source": [
    "import os\n",
    "import sys\n",
    "sys.path.insert(0, os.path.abspath('../DropEdge/src'))"
   ]
  },
  {
   "cell_type": "code",
   "execution_count": 2,
   "metadata": {},
   "outputs": [],
   "source": [
    "%load_ext autoreload\n",
    "%autoreload 2"
   ]
  },
  {
   "cell_type": "code",
   "execution_count": 3,
   "metadata": {},
   "outputs": [],
   "source": [
    "import matplotlib.pyplot as plt\n",
    "%matplotlib inline"
   ]
  },
  {
   "cell_type": "code",
   "execution_count": 4,
   "metadata": {},
   "outputs": [],
   "source": [
    "import time\n",
    "import argparse\n",
    "import numpy as np\n",
    "import json\n",
    "\n",
    "import torch\n",
    "import torch.nn.functional as F\n",
    "import torch.optim as optim\n",
    "#from tensorboardX import SummaryWriter\n",
    "\n",
    "from earlystopping import EarlyStopping\n",
    "from sample import Sampler\n",
    "from metric import accuracy, roc_auc_compute_fn\n",
    "# from deepgcn.utils import load_data, accuracy\n",
    "# from deepgcn.models import GCN\n",
    "\n",
    "from metric import accuracy\n",
    "from utils import load_citation, load_reddit_data\n",
    "from models import *\n",
    "from earlystopping import EarlyStopping\n",
    "from sample import Sampler"
   ]
  },
  {
   "cell_type": "code",
   "execution_count": 5,
   "metadata": {},
   "outputs": [
    {
     "name": "stdout",
     "output_type": "stream",
     "text": [
      "Load full supervised task.\n",
      "Weight: Parameter containing:\n",
      "tensor([[-0.0589, -0.0756,  0.0113,  ...,  0.0276, -0.0043,  0.0660],\n",
      "        [ 0.0197, -0.0505,  0.0358,  ..., -0.0766,  0.0561, -0.0226],\n",
      "        [ 0.0466, -0.0554,  0.0720,  ...,  0.0109, -0.0747, -0.0619],\n",
      "        ...,\n",
      "        [ 0.0779,  0.0159, -0.0556,  ...,  0.0876, -0.0348, -0.0812],\n",
      "        [-0.0763, -0.0795,  0.0547,  ...,  0.0249,  0.0613, -0.0230],\n",
      "        [ 0.0028,  0.0551, -0.0354,  ...,  0.0042,  0.0233,  0.0819]],\n",
      "       requires_grad=True)\n",
      "Weight: Parameter containing:\n",
      "tensor([[-0.0715,  0.0076,  0.0384,  ..., -0.0311, -0.0855, -0.0013],\n",
      "        [ 0.0773,  0.0832, -0.0032,  ..., -0.0882,  0.0376, -0.0394],\n",
      "        [ 0.0720,  0.0163,  0.0794,  ..., -0.0610, -0.0522, -0.0687],\n",
      "        ...,\n",
      "        [ 0.0616, -0.0042, -0.0770,  ..., -0.0225,  0.0857,  0.0320],\n",
      "        [-0.0295, -0.0158,  0.0755,  ...,  0.0177,  0.0383, -0.0223],\n",
      "        [-0.0569,  0.0338, -0.0290,  ..., -0.0634, -0.0286,  0.0021]],\n",
      "       requires_grad=True)\n",
      "Weight: Parameter containing:\n",
      "tensor([[-0.0602, -0.0565, -0.0215,  ..., -0.0748,  0.0763,  0.0835],\n",
      "        [ 0.0827,  0.0180,  0.0098,  ...,  0.0756, -0.0444,  0.0100],\n",
      "        [-0.0670, -0.0490, -0.0405,  ...,  0.0103, -0.0500, -0.0235],\n",
      "        ...,\n",
      "        [-0.0100,  0.0467,  0.0235,  ...,  0.0795,  0.0103,  0.0398],\n",
      "        [-0.0796, -0.0663, -0.0427,  ...,  0.0320, -0.0386, -0.0547],\n",
      "        [ 0.0623,  0.0018, -0.0312,  ...,  0.0562, -0.0025,  0.0461]],\n",
      "       requires_grad=True)\n",
      "Weight: Parameter containing:\n",
      "tensor([[ 0.0808, -0.0015, -0.0504,  ...,  0.0575,  0.0264,  0.0102],\n",
      "        [ 0.0485,  0.0856, -0.0226,  ...,  0.0318, -0.0736, -0.0214],\n",
      "        [-0.0720,  0.0759,  0.0669,  ..., -0.0692,  0.0412,  0.0311],\n",
      "        ...,\n",
      "        [ 0.0508, -0.0438, -0.0108,  ..., -0.0669,  0.0578, -0.0114],\n",
      "        [ 0.0810,  0.0498, -0.0718,  ...,  0.0476,  0.0259,  0.0270],\n",
      "        [ 0.0285, -0.0521,  0.0570,  ...,  0.0603, -0.0597,  0.0021]],\n",
      "       requires_grad=True)\n",
      "Weight: Parameter containing:\n",
      "tensor([[ 0.0439, -0.0018,  0.0482,  ...,  0.0824,  0.0848, -0.0429],\n",
      "        [-0.0234, -0.0004, -0.0626,  ...,  0.0488,  0.0825,  0.0563],\n",
      "        [ 0.0224, -0.0060, -0.0816,  ..., -0.0331, -0.0514, -0.0813],\n",
      "        ...,\n",
      "        [ 0.0797, -0.0415, -0.0332,  ..., -0.0828,  0.0087,  0.0481],\n",
      "        [ 0.0609,  0.0311,  0.0191,  ..., -0.0410,  0.0143,  0.0552],\n",
      "        [ 0.0470,  0.0675,  0.0043,  ..., -0.0753,  0.0553, -0.0830]],\n",
      "       requires_grad=True)\n",
      "Weight: Parameter containing:\n",
      "tensor([[-0.0702, -0.0855,  0.0057,  ...,  0.0200, -0.0070, -0.0603],\n",
      "        [-0.0555, -0.0234, -0.0825,  ..., -0.0821,  0.0623,  0.0114],\n",
      "        [-0.0669, -0.0208,  0.0506,  ...,  0.0034, -0.0157,  0.0217],\n",
      "        ...,\n",
      "        [-0.0580,  0.0251, -0.0611,  ...,  0.0822,  0.0494,  0.0308],\n",
      "        [-0.0388,  0.0566,  0.0785,  ..., -0.0315,  0.0641, -0.0063],\n",
      "        [-0.0131, -0.0590,  0.0795,  ...,  0.0227, -0.0271,  0.0231]],\n",
      "       requires_grad=True)\n",
      "Weight: Parameter containing:\n",
      "tensor([[ 0.0348,  0.0786, -0.0250,  ..., -0.0288, -0.0252, -0.0566],\n",
      "        [-0.0227, -0.0799,  0.0530,  ..., -0.0649, -0.0155, -0.0488],\n",
      "        [-0.0370, -0.0877,  0.0489,  ..., -0.0041, -0.0113, -0.0002],\n",
      "        ...,\n",
      "        [-0.0030,  0.0037, -0.0562,  ..., -0.0375, -0.0238,  0.0687],\n",
      "        [-0.0421,  0.0189, -0.0827,  ..., -0.0814, -0.0725, -0.0315],\n",
      "        [ 0.0434,  0.0342,  0.0127,  ..., -0.0594, -0.0412,  0.0577]],\n",
      "       requires_grad=True)\n",
      "Weight: Parameter containing:\n",
      "tensor([[-0.0356, -0.0789, -0.0405,  ..., -0.0211, -0.0488,  0.0266],\n",
      "        [ 0.0674,  0.0086,  0.0760,  ..., -0.0174, -0.0647,  0.0400],\n",
      "        [-0.0585, -0.0366, -0.0093,  ..., -0.0794, -0.0809, -0.0327],\n",
      "        ...,\n",
      "        [-0.0660,  0.0835,  0.0548,  ...,  0.0878, -0.0650,  0.0032],\n",
      "        [-0.0350,  0.0003, -0.0486,  ...,  0.0242, -0.0225,  0.0038],\n",
      "        [ 0.0376, -0.0030,  0.0453,  ...,  0.0106, -0.0499, -0.0016]],\n",
      "       requires_grad=True)\n",
      "Weight: Parameter containing:\n",
      "tensor([[-1.1479e-02,  7.3231e-02, -6.2753e-04,  ..., -7.0761e-02,\n",
      "         -4.5982e-02, -8.4187e-02],\n",
      "        [-5.5854e-02,  5.6107e-03,  5.0589e-05,  ...,  1.0045e-02,\n",
      "         -6.8228e-02,  1.4278e-03],\n",
      "        [-4.7900e-02, -5.9383e-02,  1.4138e-02,  ...,  1.6823e-02,\n",
      "          1.5072e-02,  6.0852e-02],\n",
      "        ...,\n",
      "        [ 1.6175e-02,  6.7008e-02, -3.4684e-02,  ..., -5.3824e-02,\n",
      "         -3.3619e-02,  8.3224e-02],\n",
      "        [ 2.1437e-02,  2.2067e-02,  3.8831e-02,  ...,  7.0332e-02,\n",
      "         -8.4857e-02,  3.9018e-02],\n",
      "        [-4.1320e-02, -7.1930e-02, -2.8468e-02,  ...,  3.4715e-02,\n",
      "          5.1858e-02, -5.5191e-02]], requires_grad=True)\n",
      "Weight: Parameter containing:\n",
      "tensor([[-0.0157, -0.0670,  0.0091,  ..., -0.0241,  0.0799, -0.0347],\n",
      "        [-0.0020,  0.0132,  0.0794,  ...,  0.0809,  0.0419,  0.0125],\n",
      "        [-0.0440, -0.0108,  0.0389,  ..., -0.0084,  0.0449,  0.0211],\n",
      "        ...,\n",
      "        [ 0.0804, -0.0198,  0.0002,  ..., -0.0334,  0.0208,  0.0619],\n",
      "        [ 0.0659, -0.0257,  0.0591,  ...,  0.0463,  0.0599, -0.0227],\n",
      "        [-0.0226,  0.0445,  0.0261,  ...,  0.0048,  0.0168,  0.0038]],\n",
      "       requires_grad=True)\n",
      "Weight: Parameter containing:\n",
      "tensor([[-0.0362, -0.0026,  0.0306,  ..., -0.0074, -0.0439, -0.0632],\n",
      "        [ 0.0482,  0.0758,  0.0683,  ..., -0.0391, -0.0305,  0.0459],\n",
      "        [-0.0661, -0.0609, -0.0296,  ..., -0.0847, -0.0082, -0.0812],\n",
      "        ...,\n",
      "        [-0.0592,  0.0520,  0.0441,  ..., -0.0068,  0.0622, -0.0315],\n",
      "        [ 0.0698, -0.0594,  0.0201,  ...,  0.0572, -0.0634,  0.0792],\n",
      "        [ 0.0486,  0.0554, -0.0207,  ..., -0.0087,  0.0680, -0.0772]],\n",
      "       requires_grad=True)\n",
      "Weight: Parameter containing:\n",
      "tensor([[ 0.0207,  0.0352,  0.0752,  ..., -0.0508,  0.0712, -0.0693],\n",
      "        [-0.0073, -0.0808,  0.0133,  ...,  0.0871,  0.0268,  0.0096],\n",
      "        [ 0.0275,  0.0870, -0.0125,  ..., -0.0821, -0.0228,  0.0722],\n",
      "        ...,\n",
      "        [ 0.0398,  0.0176, -0.0147,  ...,  0.0872,  0.0801, -0.0376],\n",
      "        [-0.0072, -0.0124, -0.0696,  ..., -0.0719, -0.0100, -0.0526],\n",
      "        [ 0.0420, -0.0284, -0.0372,  ...,  0.0419, -0.0147, -0.0038]],\n",
      "       requires_grad=True)\n",
      "Weight: Parameter containing:\n",
      "tensor([[ 0.0022,  0.0573,  0.0047,  ..., -0.0530, -0.0748, -0.0393],\n",
      "        [ 0.0508, -0.0170,  0.0550,  ...,  0.0125,  0.0324,  0.0789],\n",
      "        [-0.0298, -0.0171,  0.0031,  ...,  0.0663,  0.0508, -0.0561],\n",
      "        ...,\n",
      "        [ 0.0797, -0.0017, -0.0448,  ...,  0.0629, -0.0192, -0.0718],\n",
      "        [-0.0721,  0.0316,  0.0434,  ...,  0.0719,  0.0467, -0.0676],\n",
      "        [-0.0519, -0.0231,  0.0551,  ...,  0.0851, -0.0783,  0.0158]],\n",
      "       requires_grad=True)\n",
      "Weight: Parameter containing:\n",
      "tensor([[ 0.0022,  0.0127,  0.0417,  ..., -0.0450, -0.0143,  0.0224],\n",
      "        [ 0.0769, -0.0262, -0.0856,  ..., -0.0247, -0.0255, -0.0836],\n",
      "        [ 0.0522,  0.0535, -0.0577,  ...,  0.0786, -0.0579, -0.0051],\n",
      "        ...,\n",
      "        [ 0.0501,  0.0670, -0.0038,  ..., -0.0257,  0.0777,  0.0586],\n",
      "        [ 0.0583,  0.0148, -0.0553,  ...,  0.0097, -0.0343,  0.0239],\n",
      "        [-0.0860,  0.0670,  0.0201,  ..., -0.0578, -0.0632,  0.0736]],\n",
      "       requires_grad=True)\n",
      "Weight: Parameter containing:\n",
      "tensor([[-0.0686,  0.0404, -0.0002,  ..., -0.0724, -0.0578,  0.0157],\n",
      "        [ 0.0313, -0.0606,  0.0139,  ..., -0.0560,  0.0314, -0.0363],\n",
      "        [ 0.0575, -0.0620, -0.0077,  ..., -0.0326,  0.0828,  0.0208],\n",
      "        ...,\n",
      "        [-0.0767,  0.0239, -0.0691,  ...,  0.0451,  0.0152, -0.0542],\n",
      "        [-0.0463, -0.0447, -0.0569,  ...,  0.0600, -0.0407, -0.0221],\n",
      "        [ 0.0298, -0.0176, -0.0745,  ..., -0.0799, -0.0523, -0.0799]],\n",
      "       requires_grad=True)\n",
      "Weight: Parameter containing:\n",
      "tensor([[-0.0181, -0.0502, -0.0508,  ...,  0.0209,  0.0557, -0.0245],\n",
      "        [ 0.0367, -0.0521,  0.0632,  ..., -0.0278, -0.0236, -0.0041],\n",
      "        [-0.0342,  0.0191, -0.0398,  ...,  0.0076,  0.0157, -0.0547],\n",
      "        ...,\n",
      "        [ 0.0557, -0.0489, -0.0749,  ..., -0.0627, -0.0172,  0.0073],\n",
      "        [-0.0043, -0.0322,  0.0716,  ..., -0.0529,  0.0883, -0.0448],\n",
      "        [ 0.0396,  0.0604,  0.0313,  ...,  0.0083,  0.0452, -0.0330]],\n",
      "       requires_grad=True)\n"
     ]
    },
    {
     "data": {
      "text/plain": [
       "SkipGCN(\n",
       "  (ingc): GraphConvolutionBS(\n",
       "    (bn): BatchNorm1d(128, eps=1e-05, momentum=0.1, affine=True, track_running_stats=True)\n",
       "  )\n",
       "  (outgc): Sequential(\n",
       "    (0): Linear(in_features=2048, out_features=128, bias=True)\n",
       "    (1): ReLU()\n",
       "    (2): Linear(in_features=128, out_features=3, bias=True)\n",
       "  )\n",
       "  (midlayer): ModuleList(\n",
       "    (0): MultiLayerGCNBlock(\n",
       "      (model): GraphBaseBlock(\n",
       "        (hiddenlayers): ModuleList(\n",
       "          (0): GraphConvolutionBS(\n",
       "            (bn): BatchNorm1d(128, eps=1e-05, momentum=0.1, affine=True, track_running_stats=True)\n",
       "          )\n",
       "          (1): GraphConvolutionBS(\n",
       "            (bn): BatchNorm1d(128, eps=1e-05, momentum=0.1, affine=True, track_running_stats=True)\n",
       "          )\n",
       "          (2): GraphConvolutionBS(\n",
       "            (bn): BatchNorm1d(128, eps=1e-05, momentum=0.1, affine=True, track_running_stats=True)\n",
       "          )\n",
       "          (3): GraphConvolutionBS(\n",
       "            (bn): BatchNorm1d(128, eps=1e-05, momentum=0.1, affine=True, track_running_stats=True)\n",
       "          )\n",
       "          (4): GraphConvolutionBS(\n",
       "            (bn): BatchNorm1d(128, eps=1e-05, momentum=0.1, affine=True, track_running_stats=True)\n",
       "          )\n",
       "          (5): GraphConvolutionBS(\n",
       "            (bn): BatchNorm1d(128, eps=1e-05, momentum=0.1, affine=True, track_running_stats=True)\n",
       "          )\n",
       "          (6): GraphConvolutionBS(\n",
       "            (bn): BatchNorm1d(128, eps=1e-05, momentum=0.1, affine=True, track_running_stats=True)\n",
       "          )\n",
       "          (7): GraphConvolutionBS(\n",
       "            (bn): BatchNorm1d(128, eps=1e-05, momentum=0.1, affine=True, track_running_stats=True)\n",
       "          )\n",
       "          (8): GraphConvolutionBS(\n",
       "            (bn): BatchNorm1d(128, eps=1e-05, momentum=0.1, affine=True, track_running_stats=True)\n",
       "          )\n",
       "          (9): GraphConvolutionBS(\n",
       "            (bn): BatchNorm1d(128, eps=1e-05, momentum=0.1, affine=True, track_running_stats=True)\n",
       "          )\n",
       "          (10): GraphConvolutionBS(\n",
       "            (bn): BatchNorm1d(128, eps=1e-05, momentum=0.1, affine=True, track_running_stats=True)\n",
       "          )\n",
       "          (11): GraphConvolutionBS(\n",
       "            (bn): BatchNorm1d(128, eps=1e-05, momentum=0.1, affine=True, track_running_stats=True)\n",
       "          )\n",
       "          (12): GraphConvolutionBS(\n",
       "            (bn): BatchNorm1d(128, eps=1e-05, momentum=0.1, affine=True, track_running_stats=True)\n",
       "          )\n",
       "          (13): GraphConvolutionBS(\n",
       "            (bn): BatchNorm1d(128, eps=1e-05, momentum=0.1, affine=True, track_running_stats=True)\n",
       "          )\n",
       "          (14): GraphConvolutionBS(\n",
       "            (bn): BatchNorm1d(128, eps=1e-05, momentum=0.1, affine=True, track_running_stats=True)\n",
       "          )\n",
       "          (15): GraphConvolutionBS(\n",
       "            (bn): BatchNorm1d(128, eps=1e-05, momentum=0.1, affine=True, track_running_stats=True)\n",
       "          )\n",
       "        )\n",
       "      )\n",
       "    )\n",
       "  )\n",
       ")"
      ]
     },
     "execution_count": 5,
     "metadata": {},
     "output_type": "execute_result"
    }
   ],
   "source": [
    "nbaseblocklayer = 16\n",
    "\n",
    "with open('../DropEdge/tmpmodel/pubmed_{0}_blocks.json'.format(nbaseblocklayer), 'r') as f:\n",
    "    args = json.load(f)\n",
    "\n",
    "sampler = Sampler(args['dataset'], '../DropEdge/data/', args['task_type'])\n",
    "labels, idx_train, idx_val, idx_test = sampler.get_label_and_idxes(args['cuda'])\n",
    "nfeat = sampler.nfeat\n",
    "nclass = sampler.nclass\n",
    "\n",
    "device = 'cuda:0'\n",
    "base_model = SkipGCN(nfeat=nfeat,\n",
    "                      nhid=args['hidden'],\n",
    "                      nclass=nclass,\n",
    "                      nhidlayer=args['nhiddenlayer'],\n",
    "                      dropout=args['dropout'],\n",
    "                      baseblock=args['type'],\n",
    "                      inputlayer=args['inputlayer'],\n",
    "                      outputlayer=args['outputlayer'],\n",
    "                      nbaselayer=args['nbaseblocklayer'],\n",
    "                      activation=F.relu,\n",
    "                      withbn=args['withbn'],\n",
    "                      withloop=args['withloop'],\n",
    "                      aggrmethod=args['aggrmethod'],\n",
    "                      mixmode=args['mixmode']\n",
    "                     )\n",
    "base_model.load_state_dict(torch.load(\n",
    "    '../DropEdge/tmpmodel/pubmed_{0}_blocks.pt'.format(nbaseblocklayer)))\n",
    "base_model.eval()\n",
    "base_model.to(device)"
   ]
  },
  {
   "cell_type": "code",
   "execution_count": 6,
   "metadata": {},
   "outputs": [],
   "source": [
    "from torch.nn import Module\n",
    "from copy import deepcopy\n",
    "\n",
    "\n",
    "class GraphConvolutionBSSVD(Module):\n",
    "    def __init__(self, orig_layer, r=None):\n",
    "        super(GraphConvolutionBSSVD, self).__init__()\n",
    "        \n",
    "        if r == None:\n",
    "            r = min(orig_layer.in_features, orig_layer.out_features)          \n",
    "        self.r = r\n",
    "        \n",
    "        self.in_features = orig_layer.in_features\n",
    "        self.out_features = orig_layer.out_features\n",
    "        self.sigma = orig_layer.sigma\n",
    "        self.res = orig_layer.res\n",
    "\n",
    "        # Parameter setting.\n",
    "        U, s, V = torch.svd(orig_layer.weight.clone())\n",
    "        \n",
    "        self.U = nn.Parameter(U)\n",
    "        self.s = nn.Parameter(s)\n",
    "        self.Vt = nn.Parameter(V.T)\n",
    "        \n",
    "        # Is this the best practice or not?\n",
    "        if orig_layer.self_weight is not None:\n",
    "            U, s, V = torch.svd(orig_layer.self_weight.clone())\n",
    "            self.self_U = nn.Parameter(U)\n",
    "            self.self_s = nn.Parameter(s)\n",
    "            self.self_Vt = nn.Parameter(V.T)\n",
    "        else:\n",
    "            self.register_parameter(\"self_U\", None)\n",
    "            self.register_parameter(\"self_s\", None)\n",
    "            self.register_parameter(\"self_Vt\", None)\n",
    "\n",
    "        if orig_layer.bn is not None:\n",
    "            self.bn = deepcopy(orig_layer.bn)\n",
    "        else:\n",
    "            self.register_parameter(\"bn\", None)\n",
    "\n",
    "        if orig_layer.bias is not None:\n",
    "            self.bias = Parameter(orig_layer.bias.clone())\n",
    "        else:\n",
    "            self.register_parameter('bias', None)\n",
    "\n",
    "    def forward(self, input, adj):\n",
    "        # print('in layers forward method\\n')\n",
    "        # print(input.shape)\n",
    "        # print(adj.shape)\n",
    "        # print(self.weight.shape)\n",
    "        support = torch.mm(input, self.U[:, :self.r])\n",
    "        support = support * self.s[:self.r]\n",
    "        support = torch.mm(support, self.Vt[:self.r, :])\n",
    "        output = torch.spmm(adj, support)\n",
    "\n",
    "        # Self-loop\n",
    "        if self.self_U is not None:\n",
    "            selfloop = torch.mm(input, self.self_U[:, :self.r])\n",
    "            selfloop = selfloop * self.self_s[:self.r]\n",
    "            selfloop = torch.mm(selfloop, self.self_Vt[:self.r, :])\n",
    "            output = output + selfloop\n",
    "\n",
    "        if self.bias is not None:\n",
    "            output = output + self.bias\n",
    "        # BN\n",
    "        if self.bn is not None:\n",
    "            output = self.bn(output)\n",
    "        # Res\n",
    "        if self.res:\n",
    "            return self.sigma(output) + input\n",
    "        else:\n",
    "            return self.sigma(output)\n",
    "\n",
    "    def __repr__(self):\n",
    "        return self.__class__.__name__ + ' (' \\\n",
    "               + str(self.in_features) + ' -> ' \\\n",
    "               + str(self.out_features) \\\n",
    "               + ', ' + str(self.r) + ')'\n",
    "    \n",
    "    def set_rank(self, r=None):\n",
    "        if r is None:\n",
    "            self.r = self.get_max_rank()\n",
    "        else:\n",
    "            self.r = r\n",
    "        \n",
    "    def get_max_rank(self):\n",
    "        return len(self.s)"
   ]
  },
  {
   "cell_type": "code",
   "execution_count": 7,
   "metadata": {},
   "outputs": [],
   "source": [
    "import copy\n",
    "\n",
    "def make_new_model(model):\n",
    "    n_layers = len(model.midlayer[0].model.hiddenlayers)\n",
    "    new_model = copy.deepcopy(model)\n",
    "    \n",
    "    new_model.ingc = GraphConvolutionBSSVD(base_model.ingc)\n",
    "    for i in range(n_layers):\n",
    "        new_model.midlayer[0].model.hiddenlayers[i] = \\\n",
    "            GraphConvolutionBSSVD(base_model.midlayer[0].model.hiddenlayers[i])\n",
    "    return new_model\n",
    "\n",
    "def reset_rank(model):\n",
    "    model.ingc.set_rank()\n",
    "    for idx_layer in range(args['nbaseblocklayer']):\n",
    "        model.midlayer[0].model.hiddenlayers[idx_layer].set_rank()"
   ]
  },
  {
   "cell_type": "code",
   "execution_count": 8,
   "metadata": {},
   "outputs": [],
   "source": [
    "(train_adj, train_fea) = sampler.randomedge_sampler(\n",
    "    percent=args['sampling_percent'],\n",
    "    normalization=args['normalization'],\n",
    "    cuda=args['cuda']\n",
    ")"
   ]
  },
  {
   "cell_type": "code",
   "execution_count": 9,
   "metadata": {},
   "outputs": [],
   "source": [
    "new_model = make_new_model(base_model)"
   ]
  },
  {
   "cell_type": "code",
   "execution_count": 10,
   "metadata": {},
   "outputs": [
    {
     "data": {
      "image/png": "[encoded data removed]",
      "text/plain": [
       "<Figure size 864x576 with 1 Axes>"
      ]
     },
     "metadata": {
      "needs_background": "light"
     },
     "output_type": "display_data"
    }
   ],
   "source": [
    "plt.figure(figsize=(12, 8))\n",
    "\n",
    "plt.title('Number of GCN in midlayer: {}'.format(args['nbaseblocklayer']), fontsize=16)\n",
    "\n",
    "singular_values = new_model.ingc.s.cpu().detach().numpy()\n",
    "plt.plot(singular_values, label='input')\n",
    "\n",
    "for i in range(args['nbaseblocklayer']):\n",
    "    singular_values = new_model.midlayer[0].model.hiddenlayers[i].s.cpu().detach().numpy()\n",
    "    plt.plot(singular_values, label=str(i + 1))\n",
    "\n",
    "plt.xlabel('$i$', fontsize=14)\n",
    "plt.ylabel('$i$-th singular value', fontsize=14)\n",
    "plt.grid(ls=\":\")\n",
    "plt.legend(fontsize=12)\n",
    "plt.show()"
   ]
  },
  {
   "cell_type": "code",
   "execution_count": 11,
   "metadata": {},
   "outputs": [
    {
     "data": {
      "image/png": "[encoded data removed]",
      "text/plain": [
       "<Figure size 864x576 with 1 Axes>"
      ]
     },
     "metadata": {
      "needs_background": "light"
     },
     "output_type": "display_data"
    }
   ],
   "source": [
    "plt.figure(figsize=(12, 8))\n",
    "\n",
    "plt.title('Number of GCN in midlayer: {}'.format(args['nbaseblocklayer']), fontsize=16)\n",
    "\n",
    "singular_values = new_model.ingc.self_s.cpu().detach().numpy()\n",
    "plt.plot(singular_values, label='input')\n",
    "\n",
    "for i in range(args['nbaseblocklayer']):\n",
    "    singular_values = new_model.midlayer[0].model.hiddenlayers[i].self_s.cpu().detach().numpy()\n",
    "    plt.plot(singular_values, label=str(i + 1))\n",
    "\n",
    "plt.xlabel('$i$', fontsize=14)\n",
    "plt.ylabel('$i$-th singular value', fontsize=14)\n",
    "plt.grid(ls=\":\")\n",
    "plt.legend(fontsize=12)\n",
    "plt.show()"
   ]
  },
  {
   "cell_type": "code",
   "execution_count": 12,
   "metadata": {},
   "outputs": [],
   "source": [
    "def test_model(model, test_adj, test_fea):\n",
    "    model.eval()\n",
    "    output = model(test_fea, test_adj)\n",
    "    loss_test = F.nll_loss(output[idx_test], labels[idx_test])\n",
    "    acc_test = accuracy(output[idx_test], labels[idx_test])\n",
    "    return loss_test.item(), acc_test.item()\n",
    "\n",
    "(test_adj, test_fea) = sampler.get_test_set(\n",
    "    normalization=args['normalization'],\n",
    "    cuda=args['cuda']\n",
    ")"
   ]
  },
  {
   "cell_type": "code",
   "execution_count": 13,
   "metadata": {},
   "outputs": [
    {
     "data": {
      "application/vnd.jupyter.widget-view+json": {
       "model_id": "4c66ce99d50b46e1a20d0226eea5167e",
       "version_major": 2,
       "version_minor": 0
      },
      "text/plain": [
       "HBox(children=(FloatProgress(value=0.0, max=128.0), HTML(value='')))"
      ]
     },
     "metadata": {},
     "output_type": "display_data"
    },
    {
     "data": {
      "application/vnd.jupyter.widget-view+json": {
       "model_id": "",
       "version_major": 2,
       "version_minor": 0
      },
      "text/plain": [
       "HBox(children=(FloatProgress(value=0.0, max=128.0), HTML(value='')))"
      ]
     },
     "metadata": {},
     "output_type": "display_data"
    },
    {
     "data": {
      "application/vnd.jupyter.widget-view+json": {
       "model_id": "",
       "version_major": 2,
       "version_minor": 0
      },
      "text/plain": [
       "HBox(children=(FloatProgress(value=0.0, max=128.0), HTML(value='')))"
      ]
     },
     "metadata": {},
     "output_type": "display_data"
    },
    {
     "data": {
      "application/vnd.jupyter.widget-view+json": {
       "model_id": "",
       "version_major": 2,
       "version_minor": 0
      },
      "text/plain": [
       "HBox(children=(FloatProgress(value=0.0, max=128.0), HTML(value='')))"
      ]
     },
     "metadata": {},
     "output_type": "display_data"
    },
    {
     "data": {
      "application/vnd.jupyter.widget-view+json": {
       "model_id": "",
       "version_major": 2,
       "version_minor": 0
      },
      "text/plain": [
       "HBox(children=(FloatProgress(value=0.0, max=128.0), HTML(value='')))"
      ]
     },
     "metadata": {},
     "output_type": "display_data"
    },
    {
     "data": {
      "application/vnd.jupyter.widget-view+json": {
       "model_id": "",
       "version_major": 2,
       "version_minor": 0
      },
      "text/plain": [
       "HBox(children=(FloatProgress(value=0.0, max=128.0), HTML(value='')))"
      ]
     },
     "metadata": {},
     "output_type": "display_data"
    },
    {
     "data": {
      "application/vnd.jupyter.widget-view+json": {
       "model_id": "",
       "version_major": 2,
       "version_minor": 0
      },
      "text/plain": [
       "HBox(children=(FloatProgress(value=0.0, max=128.0), HTML(value='')))"
      ]
     },
     "metadata": {},
     "output_type": "display_data"
    },
    {
     "data": {
      "application/vnd.jupyter.widget-view+json": {
       "model_id": "",
       "version_major": 2,
       "version_minor": 0
      },
      "text/plain": [
       "HBox(children=(FloatProgress(value=0.0, max=128.0), HTML(value='')))"
      ]
     },
     "metadata": {},
     "output_type": "display_data"
    },
    {
     "data": {
      "application/vnd.jupyter.widget-view+json": {
       "model_id": "",
       "version_major": 2,
       "version_minor": 0
      },
      "text/plain": [
       "HBox(children=(FloatProgress(value=0.0, max=128.0), HTML(value='')))"
      ]
     },
     "metadata": {},
     "output_type": "display_data"
    },
    {
     "data": {
      "application/vnd.jupyter.widget-view+json": {
       "model_id": "",
       "version_major": 2,
       "version_minor": 0
      },
      "text/plain": [
       "HBox(children=(FloatProgress(value=0.0, max=128.0), HTML(value='')))"
      ]
     },
     "metadata": {},
     "output_type": "display_data"
    },
    {
     "data": {
      "application/vnd.jupyter.widget-view+json": {
       "model_id": "",
       "version_major": 2,
       "version_minor": 0
      },
      "text/plain": [
       "HBox(children=(FloatProgress(value=0.0, max=128.0), HTML(value='')))"
      ]
     },
     "metadata": {},
     "output_type": "display_data"
    },
    {
     "data": {
      "application/vnd.jupyter.widget-view+json": {
       "model_id": "",
       "version_major": 2,
       "version_minor": 0
      },
      "text/plain": [
       "HBox(children=(FloatProgress(value=0.0, max=128.0), HTML(value='')))"
      ]
     },
     "metadata": {},
     "output_type": "display_data"
    },
    {
     "data": {
      "application/vnd.jupyter.widget-view+json": {
       "model_id": "",
       "version_major": 2,
       "version_minor": 0
      },
      "text/plain": [
       "HBox(children=(FloatProgress(value=0.0, max=128.0), HTML(value='')))"
      ]
     },
     "metadata": {},
     "output_type": "display_data"
    },
    {
     "data": {
      "application/vnd.jupyter.widget-view+json": {
       "model_id": "",
       "version_major": 2,
       "version_minor": 0
      },
      "text/plain": [
       "HBox(children=(FloatProgress(value=0.0, max=128.0), HTML(value='')))"
      ]
     },
     "metadata": {},
     "output_type": "display_data"
    },
    {
     "data": {
      "application/vnd.jupyter.widget-view+json": {
       "model_id": "",
       "version_major": 2,
       "version_minor": 0
      },
      "text/plain": [
       "HBox(children=(FloatProgress(value=0.0, max=128.0), HTML(value='')))"
      ]
     },
     "metadata": {},
     "output_type": "display_data"
    },
    {
     "data": {
      "application/vnd.jupyter.widget-view+json": {
       "model_id": "",
       "version_major": 2,
       "version_minor": 0
      },
      "text/plain": [
       "HBox(children=(FloatProgress(value=0.0, max=128.0), HTML(value='')))"
      ]
     },
     "metadata": {},
     "output_type": "display_data"
    },
    {
     "data": {
      "application/vnd.jupyter.widget-view+json": {
       "model_id": "",
       "version_major": 2,
       "version_minor": 0
      },
      "text/plain": [
       "HBox(children=(FloatProgress(value=0.0, max=128.0), HTML(value='')))"
      ]
     },
     "metadata": {},
     "output_type": "display_data"
    },
    {
     "data": {
      "application/vnd.jupyter.widget-view+json": {
       "model_id": "",
       "version_major": 2,
       "version_minor": 0
      },
      "text/plain": [
       "HBox(children=(FloatProgress(value=0.0, max=128.0), HTML(value='')))"
      ]
     },
     "metadata": {},
     "output_type": "display_data"
    },
    {
     "data": {
      "application/vnd.jupyter.widget-view+json": {
       "model_id": "",
       "version_major": 2,
       "version_minor": 0
      },
      "text/plain": [
       "HBox(children=(FloatProgress(value=0.0, max=128.0), HTML(value='')))"
      ]
     },
     "metadata": {},
     "output_type": "display_data"
    },
    {
     "data": {
      "application/vnd.jupyter.widget-view+json": {
       "model_id": "",
       "version_major": 2,
       "version_minor": 0
      },
      "text/plain": [
       "HBox(children=(FloatProgress(value=0.0, max=128.0), HTML(value='')))"
      ]
     },
     "metadata": {},
     "output_type": "display_data"
    },
    {
     "data": {
      "application/vnd.jupyter.widget-view+json": {
       "model_id": "",
       "version_major": 2,
       "version_minor": 0
      },
      "text/plain": [
       "HBox(children=(FloatProgress(value=0.0, max=128.0), HTML(value='')))"
      ]
     },
     "metadata": {},
     "output_type": "display_data"
    },
    {
     "data": {
      "application/vnd.jupyter.widget-view+json": {
       "model_id": "",
       "version_major": 2,
       "version_minor": 0
      },
      "text/plain": [
       "HBox(children=(FloatProgress(value=0.0, max=128.0), HTML(value='')))"
      ]
     },
     "metadata": {},
     "output_type": "display_data"
    },
    {
     "data": {
      "application/vnd.jupyter.widget-view+json": {
       "model_id": "",
       "version_major": 2,
       "version_minor": 0
      },
      "text/plain": [
       "HBox(children=(FloatProgress(value=0.0, max=128.0), HTML(value='')))"
      ]
     },
     "metadata": {},
     "output_type": "display_data"
    },
    {
     "data": {
      "application/vnd.jupyter.widget-view+json": {
       "model_id": "",
       "version_major": 2,
       "version_minor": 0
      },
      "text/plain": [
       "HBox(children=(FloatProgress(value=0.0, max=128.0), HTML(value='')))"
      ]
     },
     "metadata": {},
     "output_type": "display_data"
    },
    {
     "data": {
      "application/vnd.jupyter.widget-view+json": {
       "model_id": "",
       "version_major": 2,
       "version_minor": 0
      },
      "text/plain": [
       "HBox(children=(FloatProgress(value=0.0, max=128.0), HTML(value='')))"
      ]
     },
     "metadata": {},
     "output_type": "display_data"
    },
    {
     "data": {
      "application/vnd.jupyter.widget-view+json": {
       "model_id": "",
       "version_major": 2,
       "version_minor": 0
      },
      "text/plain": [
       "HBox(children=(FloatProgress(value=0.0, max=128.0), HTML(value='')))"
      ]
     },
     "metadata": {},
     "output_type": "display_data"
    },
    {
     "data": {
      "application/vnd.jupyter.widget-view+json": {
       "model_id": "",
       "version_major": 2,
       "version_minor": 0
      },
      "text/plain": [
       "HBox(children=(FloatProgress(value=0.0, max=128.0), HTML(value='')))"
      ]
     },
     "metadata": {},
     "output_type": "display_data"
    },
    {
     "data": {
      "application/vnd.jupyter.widget-view+json": {
       "model_id": "",
       "version_major": 2,
       "version_minor": 0
      },
      "text/plain": [
       "HBox(children=(FloatProgress(value=0.0, max=128.0), HTML(value='')))"
      ]
     },
     "metadata": {},
     "output_type": "display_data"
    },
    {
     "data": {
      "application/vnd.jupyter.widget-view+json": {
       "model_id": "",
       "version_major": 2,
       "version_minor": 0
      },
      "text/plain": [
       "HBox(children=(FloatProgress(value=0.0, max=128.0), HTML(value='')))"
      ]
     },
     "metadata": {},
     "output_type": "display_data"
    },
    {
     "data": {
      "application/vnd.jupyter.widget-view+json": {
       "model_id": "",
       "version_major": 2,
       "version_minor": 0
      },
      "text/plain": [
       "HBox(children=(FloatProgress(value=0.0, max=128.0), HTML(value='')))"
      ]
     },
     "metadata": {},
     "output_type": "display_data"
    },
    {
     "data": {
      "application/vnd.jupyter.widget-view+json": {
       "model_id": "",
       "version_major": 2,
       "version_minor": 0
      },
      "text/plain": [
       "HBox(children=(FloatProgress(value=0.0, max=128.0), HTML(value='')))"
      ]
     },
     "metadata": {},
     "output_type": "display_data"
    },
    {
     "data": {
      "application/vnd.jupyter.widget-view+json": {
       "model_id": "",
       "version_major": 2,
       "version_minor": 0
      },
      "text/plain": [
       "HBox(children=(FloatProgress(value=0.0, max=128.0), HTML(value='')))"
      ]
     },
     "metadata": {},
     "output_type": "display_data"
    },
    {
     "data": {
      "application/vnd.jupyter.widget-view+json": {
       "model_id": "",
       "version_major": 2,
       "version_minor": 0
      },
      "text/plain": [
       "HBox(children=(FloatProgress(value=0.0, max=128.0), HTML(value='')))"
      ]
     },
     "metadata": {},
     "output_type": "display_data"
    },
    {
     "data": {
      "application/vnd.jupyter.widget-view+json": {
       "model_id": "",
       "version_major": 2,
       "version_minor": 0
      },
      "text/plain": [
       "HBox(children=(FloatProgress(value=0.0, max=128.0), HTML(value='')))"
      ]
     },
     "metadata": {},
     "output_type": "display_data"
    },
    {
     "data": {
      "application/vnd.jupyter.widget-view+json": {
       "model_id": "",
       "version_major": 2,
       "version_minor": 0
      },
      "text/plain": [
       "HBox(children=(FloatProgress(value=0.0, max=128.0), HTML(value='')))"
      ]
     },
     "metadata": {},
     "output_type": "display_data"
    },
    {
     "data": {
      "application/vnd.jupyter.widget-view+json": {
       "model_id": "",
       "version_major": 2,
       "version_minor": 0
      },
      "text/plain": [
       "HBox(children=(FloatProgress(value=0.0, max=128.0), HTML(value='')))"
      ]
     },
     "metadata": {},
     "output_type": "display_data"
    },
    {
     "data": {
      "application/vnd.jupyter.widget-view+json": {
       "model_id": "",
       "version_major": 2,
       "version_minor": 0
      },
      "text/plain": [
       "HBox(children=(FloatProgress(value=0.0, max=128.0), HTML(value='')))"
      ]
     },
     "metadata": {},
     "output_type": "display_data"
    },
    {
     "data": {
      "application/vnd.jupyter.widget-view+json": {
       "model_id": "",
       "version_major": 2,
       "version_minor": 0
      },
      "text/plain": [
       "HBox(children=(FloatProgress(value=0.0, max=128.0), HTML(value='')))"
      ]
     },
     "metadata": {},
     "output_type": "display_data"
    },
    {
     "data": {
      "application/vnd.jupyter.widget-view+json": {
       "model_id": "",
       "version_major": 2,
       "version_minor": 0
      },
      "text/plain": [
       "HBox(children=(FloatProgress(value=0.0, max=128.0), HTML(value='')))"
      ]
     },
     "metadata": {},
     "output_type": "display_data"
    },
    {
     "data": {
      "application/vnd.jupyter.widget-view+json": {
       "model_id": "",
       "version_major": 2,
       "version_minor": 0
      },
      "text/plain": [
       "HBox(children=(FloatProgress(value=0.0, max=128.0), HTML(value='')))"
      ]
     },
     "metadata": {},
     "output_type": "display_data"
    },
    {
     "data": {
      "application/vnd.jupyter.widget-view+json": {
       "model_id": "",
       "version_major": 2,
       "version_minor": 0
      },
      "text/plain": [
       "HBox(children=(FloatProgress(value=0.0, max=128.0), HTML(value='')))"
      ]
     },
     "metadata": {},
     "output_type": "display_data"
    },
    {
     "data": {
      "application/vnd.jupyter.widget-view+json": {
       "model_id": "",
       "version_major": 2,
       "version_minor": 0
      },
      "text/plain": [
       "HBox(children=(FloatProgress(value=0.0, max=128.0), HTML(value='')))"
      ]
     },
     "metadata": {},
     "output_type": "display_data"
    },
    {
     "data": {
      "application/vnd.jupyter.widget-view+json": {
       "model_id": "",
       "version_major": 2,
       "version_minor": 0
      },
      "text/plain": [
       "HBox(children=(FloatProgress(value=0.0, max=128.0), HTML(value='')))"
      ]
     },
     "metadata": {},
     "output_type": "display_data"
    },
    {
     "data": {
      "application/vnd.jupyter.widget-view+json": {
       "model_id": "",
       "version_major": 2,
       "version_minor": 0
      },
      "text/plain": [
       "HBox(children=(FloatProgress(value=0.0, max=128.0), HTML(value='')))"
      ]
     },
     "metadata": {},
     "output_type": "display_data"
    },
    {
     "data": {
      "application/vnd.jupyter.widget-view+json": {
       "model_id": "",
       "version_major": 2,
       "version_minor": 0
      },
      "text/plain": [
       "HBox(children=(FloatProgress(value=0.0, max=128.0), HTML(value='')))"
      ]
     },
     "metadata": {},
     "output_type": "display_data"
    },
    {
     "data": {
      "application/vnd.jupyter.widget-view+json": {
       "model_id": "",
       "version_major": 2,
       "version_minor": 0
      },
      "text/plain": [
       "HBox(children=(FloatProgress(value=0.0, max=128.0), HTML(value='')))"
      ]
     },
     "metadata": {},
     "output_type": "display_data"
    },
    {
     "data": {
      "application/vnd.jupyter.widget-view+json": {
       "model_id": "",
       "version_major": 2,
       "version_minor": 0
      },
      "text/plain": [
       "HBox(children=(FloatProgress(value=0.0, max=128.0), HTML(value='')))"
      ]
     },
     "metadata": {},
     "output_type": "display_data"
    },
    {
     "data": {
      "application/vnd.jupyter.widget-view+json": {
       "model_id": "",
       "version_major": 2,
       "version_minor": 0
      },
      "text/plain": [
       "HBox(children=(FloatProgress(value=0.0, max=128.0), HTML(value='')))"
      ]
     },
     "metadata": {},
     "output_type": "display_data"
    },
    {
     "data": {
      "application/vnd.jupyter.widget-view+json": {
       "model_id": "",
       "version_major": 2,
       "version_minor": 0
      },
      "text/plain": [
       "HBox(children=(FloatProgress(value=0.0, max=128.0), HTML(value='')))"
      ]
     },
     "metadata": {},
     "output_type": "display_data"
    },
    {
     "data": {
      "application/vnd.jupyter.widget-view+json": {
       "model_id": "",
       "version_major": 2,
       "version_minor": 0
      },
      "text/plain": [
       "HBox(children=(FloatProgress(value=0.0, max=128.0), HTML(value='')))"
      ]
     },
     "metadata": {},
     "output_type": "display_data"
    },
    {
     "data": {
      "application/vnd.jupyter.widget-view+json": {
       "model_id": "",
       "version_major": 2,
       "version_minor": 0
      },
      "text/plain": [
       "HBox(children=(FloatProgress(value=0.0, max=128.0), HTML(value='')))"
      ]
     },
     "metadata": {},
     "output_type": "display_data"
    },
    {
     "data": {
      "application/vnd.jupyter.widget-view+json": {
       "model_id": "",
       "version_major": 2,
       "version_minor": 0
      },
      "text/plain": [
       "HBox(children=(FloatProgress(value=0.0, max=128.0), HTML(value='')))"
      ]
     },
     "metadata": {},
     "output_type": "display_data"
    },
    {
     "data": {
      "application/vnd.jupyter.widget-view+json": {
       "model_id": "",
       "version_major": 2,
       "version_minor": 0
      },
      "text/plain": [
       "HBox(children=(FloatProgress(value=0.0, max=128.0), HTML(value='')))"
      ]
     },
     "metadata": {},
     "output_type": "display_data"
    },
    {
     "data": {
      "application/vnd.jupyter.widget-view+json": {
       "model_id": "",
       "version_major": 2,
       "version_minor": 0
      },
      "text/plain": [
       "HBox(children=(FloatProgress(value=0.0, max=128.0), HTML(value='')))"
      ]
     },
     "metadata": {},
     "output_type": "display_data"
    },
    {
     "data": {
      "application/vnd.jupyter.widget-view+json": {
       "model_id": "",
       "version_major": 2,
       "version_minor": 0
      },
      "text/plain": [
       "HBox(children=(FloatProgress(value=0.0, max=128.0), HTML(value='')))"
      ]
     },
     "metadata": {},
     "output_type": "display_data"
    },
    {
     "data": {
      "application/vnd.jupyter.widget-view+json": {
       "model_id": "",
       "version_major": 2,
       "version_minor": 0
      },
      "text/plain": [
       "HBox(children=(FloatProgress(value=0.0, max=128.0), HTML(value='')))"
      ]
     },
     "metadata": {},
     "output_type": "display_data"
    },
    {
     "data": {
      "application/vnd.jupyter.widget-view+json": {
       "model_id": "",
       "version_major": 2,
       "version_minor": 0
      },
      "text/plain": [
       "HBox(children=(FloatProgress(value=0.0, max=128.0), HTML(value='')))"
      ]
     },
     "metadata": {},
     "output_type": "display_data"
    },
    {
     "data": {
      "application/vnd.jupyter.widget-view+json": {
       "model_id": "",
       "version_major": 2,
       "version_minor": 0
      },
      "text/plain": [
       "HBox(children=(FloatProgress(value=0.0, max=128.0), HTML(value='')))"
      ]
     },
     "metadata": {},
     "output_type": "display_data"
    },
    {
     "data": {
      "application/vnd.jupyter.widget-view+json": {
       "model_id": "",
       "version_major": 2,
       "version_minor": 0
      },
      "text/plain": [
       "HBox(children=(FloatProgress(value=0.0, max=128.0), HTML(value='')))"
      ]
     },
     "metadata": {},
     "output_type": "display_data"
    },
    {
     "data": {
      "application/vnd.jupyter.widget-view+json": {
       "model_id": "",
       "version_major": 2,
       "version_minor": 0
      },
      "text/plain": [
       "HBox(children=(FloatProgress(value=0.0, max=128.0), HTML(value='')))"
      ]
     },
     "metadata": {},
     "output_type": "display_data"
    },
    {
     "data": {
      "application/vnd.jupyter.widget-view+json": {
       "model_id": "",
       "version_major": 2,
       "version_minor": 0
      },
      "text/plain": [
       "HBox(children=(FloatProgress(value=0.0, max=128.0), HTML(value='')))"
      ]
     },
     "metadata": {},
     "output_type": "display_data"
    },
    {
     "data": {
      "application/vnd.jupyter.widget-view+json": {
       "model_id": "",
       "version_major": 2,
       "version_minor": 0
      },
      "text/plain": [
       "HBox(children=(FloatProgress(value=0.0, max=128.0), HTML(value='')))"
      ]
     },
     "metadata": {},
     "output_type": "display_data"
    },
    {
     "data": {
      "application/vnd.jupyter.widget-view+json": {
       "model_id": "",
       "version_major": 2,
       "version_minor": 0
      },
      "text/plain": [
       "HBox(children=(FloatProgress(value=0.0, max=128.0), HTML(value='')))"
      ]
     },
     "metadata": {},
     "output_type": "display_data"
    },
    {
     "data": {
      "application/vnd.jupyter.widget-view+json": {
       "model_id": "",
       "version_major": 2,
       "version_minor": 0
      },
      "text/plain": [
       "HBox(children=(FloatProgress(value=0.0, max=128.0), HTML(value='')))"
      ]
     },
     "metadata": {},
     "output_type": "display_data"
    },
    {
     "data": {
      "application/vnd.jupyter.widget-view+json": {
       "model_id": "",
       "version_major": 2,
       "version_minor": 0
      },
      "text/plain": [
       "HBox(children=(FloatProgress(value=0.0, max=128.0), HTML(value='')))"
      ]
     },
     "metadata": {},
     "output_type": "display_data"
    },
    {
     "data": {
      "application/vnd.jupyter.widget-view+json": {
       "model_id": "",
       "version_major": 2,
       "version_minor": 0
      },
      "text/plain": [
       "HBox(children=(FloatProgress(value=0.0, max=128.0), HTML(value='')))"
      ]
     },
     "metadata": {},
     "output_type": "display_data"
    },
    {
     "data": {
      "application/vnd.jupyter.widget-view+json": {
       "model_id": "",
       "version_major": 2,
       "version_minor": 0
      },
      "text/plain": [
       "HBox(children=(FloatProgress(value=0.0, max=128.0), HTML(value='')))"
      ]
     },
     "metadata": {},
     "output_type": "display_data"
    },
    {
     "data": {
      "application/vnd.jupyter.widget-view+json": {
       "model_id": "",
       "version_major": 2,
       "version_minor": 0
      },
      "text/plain": [
       "HBox(children=(FloatProgress(value=0.0, max=128.0), HTML(value='')))"
      ]
     },
     "metadata": {},
     "output_type": "display_data"
    },
    {
     "data": {
      "application/vnd.jupyter.widget-view+json": {
       "model_id": "",
       "version_major": 2,
       "version_minor": 0
      },
      "text/plain": [
       "HBox(children=(FloatProgress(value=0.0, max=128.0), HTML(value='')))"
      ]
     },
     "metadata": {},
     "output_type": "display_data"
    },
    {
     "data": {
      "application/vnd.jupyter.widget-view+json": {
       "model_id": "",
       "version_major": 2,
       "version_minor": 0
      },
      "text/plain": [
       "HBox(children=(FloatProgress(value=0.0, max=128.0), HTML(value='')))"
      ]
     },
     "metadata": {},
     "output_type": "display_data"
    },
    {
     "data": {
      "application/vnd.jupyter.widget-view+json": {
       "model_id": "",
       "version_major": 2,
       "version_minor": 0
      },
      "text/plain": [
       "HBox(children=(FloatProgress(value=0.0, max=128.0), HTML(value='')))"
      ]
     },
     "metadata": {},
     "output_type": "display_data"
    },
    {
     "data": {
      "application/vnd.jupyter.widget-view+json": {
       "model_id": "",
       "version_major": 2,
       "version_minor": 0
      },
      "text/plain": [
       "HBox(children=(FloatProgress(value=0.0, max=128.0), HTML(value='')))"
      ]
     },
     "metadata": {},
     "output_type": "display_data"
    },
    {
     "data": {
      "application/vnd.jupyter.widget-view+json": {
       "model_id": "",
       "version_major": 2,
       "version_minor": 0
      },
      "text/plain": [
       "HBox(children=(FloatProgress(value=0.0, max=128.0), HTML(value='')))"
      ]
     },
     "metadata": {},
     "output_type": "display_data"
    },
    {
     "data": {
      "application/vnd.jupyter.widget-view+json": {
       "model_id": "",
       "version_major": 2,
       "version_minor": 0
      },
      "text/plain": [
       "HBox(children=(FloatProgress(value=0.0, max=128.0), HTML(value='')))"
      ]
     },
     "metadata": {},
     "output_type": "display_data"
    },
    {
     "data": {
      "application/vnd.jupyter.widget-view+json": {
       "model_id": "",
       "version_major": 2,
       "version_minor": 0
      },
      "text/plain": [
       "HBox(children=(FloatProgress(value=0.0, max=128.0), HTML(value='')))"
      ]
     },
     "metadata": {},
     "output_type": "display_data"
    },
    {
     "data": {
      "application/vnd.jupyter.widget-view+json": {
       "model_id": "",
       "version_major": 2,
       "version_minor": 0
      },
      "text/plain": [
       "HBox(children=(FloatProgress(value=0.0, max=128.0), HTML(value='')))"
      ]
     },
     "metadata": {},
     "output_type": "display_data"
    },
    {
     "data": {
      "application/vnd.jupyter.widget-view+json": {
       "model_id": "",
       "version_major": 2,
       "version_minor": 0
      },
      "text/plain": [
       "HBox(children=(FloatProgress(value=0.0, max=128.0), HTML(value='')))"
      ]
     },
     "metadata": {},
     "output_type": "display_data"
    },
    {
     "data": {
      "application/vnd.jupyter.widget-view+json": {
       "model_id": "",
       "version_major": 2,
       "version_minor": 0
      },
      "text/plain": [
       "HBox(children=(FloatProgress(value=0.0, max=128.0), HTML(value='')))"
      ]
     },
     "metadata": {},
     "output_type": "display_data"
    },
    {
     "data": {
      "application/vnd.jupyter.widget-view+json": {
       "model_id": "",
       "version_major": 2,
       "version_minor": 0
      },
      "text/plain": [
       "HBox(children=(FloatProgress(value=0.0, max=128.0), HTML(value='')))"
      ]
     },
     "metadata": {},
     "output_type": "display_data"
    },
    {
     "data": {
      "application/vnd.jupyter.widget-view+json": {
       "model_id": "",
       "version_major": 2,
       "version_minor": 0
      },
      "text/plain": [
       "HBox(children=(FloatProgress(value=0.0, max=128.0), HTML(value='')))"
      ]
     },
     "metadata": {},
     "output_type": "display_data"
    },
    {
     "data": {
      "application/vnd.jupyter.widget-view+json": {
       "model_id": "",
       "version_major": 2,
       "version_minor": 0
      },
      "text/plain": [
       "HBox(children=(FloatProgress(value=0.0, max=128.0), HTML(value='')))"
      ]
     },
     "metadata": {},
     "output_type": "display_data"
    },
    {
     "data": {
      "application/vnd.jupyter.widget-view+json": {
       "model_id": "",
       "version_major": 2,
       "version_minor": 0
      },
      "text/plain": [
       "HBox(children=(FloatProgress(value=0.0, max=128.0), HTML(value='')))"
      ]
     },
     "metadata": {},
     "output_type": "display_data"
    },
    {
     "data": {
      "application/vnd.jupyter.widget-view+json": {
       "model_id": "",
       "version_major": 2,
       "version_minor": 0
      },
      "text/plain": [
       "HBox(children=(FloatProgress(value=0.0, max=128.0), HTML(value='')))"
      ]
     },
     "metadata": {},
     "output_type": "display_data"
    },
    {
     "data": {
      "application/vnd.jupyter.widget-view+json": {
       "model_id": "",
       "version_major": 2,
       "version_minor": 0
      },
      "text/plain": [
       "HBox(children=(FloatProgress(value=0.0, max=128.0), HTML(value='')))"
      ]
     },
     "metadata": {},
     "output_type": "display_data"
    },
    {
     "data": {
      "application/vnd.jupyter.widget-view+json": {
       "model_id": "",
       "version_major": 2,
       "version_minor": 0
      },
      "text/plain": [
       "HBox(children=(FloatProgress(value=0.0, max=128.0), HTML(value='')))"
      ]
     },
     "metadata": {},
     "output_type": "display_data"
    },
    {
     "data": {
      "application/vnd.jupyter.widget-view+json": {
       "model_id": "",
       "version_major": 2,
       "version_minor": 0
      },
      "text/plain": [
       "HBox(children=(FloatProgress(value=0.0, max=128.0), HTML(value='')))"
      ]
     },
     "metadata": {},
     "output_type": "display_data"
    },
    {
     "data": {
      "application/vnd.jupyter.widget-view+json": {
       "model_id": "",
       "version_major": 2,
       "version_minor": 0
      },
      "text/plain": [
       "HBox(children=(FloatProgress(value=0.0, max=128.0), HTML(value='')))"
      ]
     },
     "metadata": {},
     "output_type": "display_data"
    },
    {
     "data": {
      "application/vnd.jupyter.widget-view+json": {
       "model_id": "",
       "version_major": 2,
       "version_minor": 0
      },
      "text/plain": [
       "HBox(children=(FloatProgress(value=0.0, max=128.0), HTML(value='')))"
      ]
     },
     "metadata": {},
     "output_type": "display_data"
    },
    {
     "data": {
      "application/vnd.jupyter.widget-view+json": {
       "model_id": "",
       "version_major": 2,
       "version_minor": 0
      },
      "text/plain": [
       "HBox(children=(FloatProgress(value=0.0, max=128.0), HTML(value='')))"
      ]
     },
     "metadata": {},
     "output_type": "display_data"
    },
    {
     "data": {
      "application/vnd.jupyter.widget-view+json": {
       "model_id": "",
       "version_major": 2,
       "version_minor": 0
      },
      "text/plain": [
       "HBox(children=(FloatProgress(value=0.0, max=128.0), HTML(value='')))"
      ]
     },
     "metadata": {},
     "output_type": "display_data"
    },
    {
     "data": {
      "application/vnd.jupyter.widget-view+json": {
       "model_id": "",
       "version_major": 2,
       "version_minor": 0
      },
      "text/plain": [
       "HBox(children=(FloatProgress(value=0.0, max=128.0), HTML(value='')))"
      ]
     },
     "metadata": {},
     "output_type": "display_data"
    },
    {
     "data": {
      "application/vnd.jupyter.widget-view+json": {
       "model_id": "",
       "version_major": 2,
       "version_minor": 0
      },
      "text/plain": [
       "HBox(children=(FloatProgress(value=0.0, max=128.0), HTML(value='')))"
      ]
     },
     "metadata": {},
     "output_type": "display_data"
    },
    {
     "data": {
      "application/vnd.jupyter.widget-view+json": {
       "model_id": "",
       "version_major": 2,
       "version_minor": 0
      },
      "text/plain": [
       "HBox(children=(FloatProgress(value=0.0, max=128.0), HTML(value='')))"
      ]
     },
     "metadata": {},
     "output_type": "display_data"
    },
    {
     "data": {
      "application/vnd.jupyter.widget-view+json": {
       "model_id": "",
       "version_major": 2,
       "version_minor": 0
      },
      "text/plain": [
       "HBox(children=(FloatProgress(value=0.0, max=128.0), HTML(value='')))"
      ]
     },
     "metadata": {},
     "output_type": "display_data"
    },
    {
     "data": {
      "application/vnd.jupyter.widget-view+json": {
       "model_id": "",
       "version_major": 2,
       "version_minor": 0
      },
      "text/plain": [
       "HBox(children=(FloatProgress(value=0.0, max=128.0), HTML(value='')))"
      ]
     },
     "metadata": {},
     "output_type": "display_data"
    },
    {
     "data": {
      "application/vnd.jupyter.widget-view+json": {
       "model_id": "",
       "version_major": 2,
       "version_minor": 0
      },
      "text/plain": [
       "HBox(children=(FloatProgress(value=0.0, max=128.0), HTML(value='')))"
      ]
     },
     "metadata": {},
     "output_type": "display_data"
    },
    {
     "data": {
      "application/vnd.jupyter.widget-view+json": {
       "model_id": "",
       "version_major": 2,
       "version_minor": 0
      },
      "text/plain": [
       "HBox(children=(FloatProgress(value=0.0, max=128.0), HTML(value='')))"
      ]
     },
     "metadata": {},
     "output_type": "display_data"
    },
    {
     "data": {
      "application/vnd.jupyter.widget-view+json": {
       "model_id": "",
       "version_major": 2,
       "version_minor": 0
      },
      "text/plain": [
       "HBox(children=(FloatProgress(value=0.0, max=128.0), HTML(value='')))"
      ]
     },
     "metadata": {},
     "output_type": "display_data"
    },
    {
     "data": {
      "application/vnd.jupyter.widget-view+json": {
       "model_id": "",
       "version_major": 2,
       "version_minor": 0
      },
      "text/plain": [
       "HBox(children=(FloatProgress(value=0.0, max=128.0), HTML(value='')))"
      ]
     },
     "metadata": {},
     "output_type": "display_data"
    },
    {
     "data": {
      "application/vnd.jupyter.widget-view+json": {
       "model_id": "",
       "version_major": 2,
       "version_minor": 0
      },
      "text/plain": [
       "HBox(children=(FloatProgress(value=0.0, max=128.0), HTML(value='')))"
      ]
     },
     "metadata": {},
     "output_type": "display_data"
    },
    {
     "data": {
      "application/vnd.jupyter.widget-view+json": {
       "model_id": "",
       "version_major": 2,
       "version_minor": 0
      },
      "text/plain": [
       "HBox(children=(FloatProgress(value=0.0, max=128.0), HTML(value='')))"
      ]
     },
     "metadata": {},
     "output_type": "display_data"
    },
    {
     "data": {
      "application/vnd.jupyter.widget-view+json": {
       "model_id": "",
       "version_major": 2,
       "version_minor": 0
      },
      "text/plain": [
       "HBox(children=(FloatProgress(value=0.0, max=128.0), HTML(value='')))"
      ]
     },
     "metadata": {},
     "output_type": "display_data"
    },
    {
     "data": {
      "application/vnd.jupyter.widget-view+json": {
       "model_id": "",
       "version_major": 2,
       "version_minor": 0
      },
      "text/plain": [
       "HBox(children=(FloatProgress(value=0.0, max=128.0), HTML(value='')))"
      ]
     },
     "metadata": {},
     "output_type": "display_data"
    },
    {
     "data": {
      "application/vnd.jupyter.widget-view+json": {
       "model_id": "",
       "version_major": 2,
       "version_minor": 0
      },
      "text/plain": [
       "HBox(children=(FloatProgress(value=0.0, max=128.0), HTML(value='')))"
      ]
     },
     "metadata": {},
     "output_type": "display_data"
    },
    {
     "data": {
      "application/vnd.jupyter.widget-view+json": {
       "model_id": "",
       "version_major": 2,
       "version_minor": 0
      },
      "text/plain": [
       "HBox(children=(FloatProgress(value=0.0, max=128.0), HTML(value='')))"
      ]
     },
     "metadata": {},
     "output_type": "display_data"
    },
    {
     "data": {
      "application/vnd.jupyter.widget-view+json": {
       "model_id": "",
       "version_major": 2,
       "version_minor": 0
      },
      "text/plain": [
       "HBox(children=(FloatProgress(value=0.0, max=128.0), HTML(value='')))"
      ]
     },
     "metadata": {},
     "output_type": "display_data"
    },
    {
     "data": {
      "application/vnd.jupyter.widget-view+json": {
       "model_id": "",
       "version_major": 2,
       "version_minor": 0
      },
      "text/plain": [
       "HBox(children=(FloatProgress(value=0.0, max=128.0), HTML(value='')))"
      ]
     },
     "metadata": {},
     "output_type": "display_data"
    },
    {
     "data": {
      "application/vnd.jupyter.widget-view+json": {
       "model_id": "",
       "version_major": 2,
       "version_minor": 0
      },
      "text/plain": [
       "HBox(children=(FloatProgress(value=0.0, max=128.0), HTML(value='')))"
      ]
     },
     "metadata": {},
     "output_type": "display_data"
    },
    {
     "data": {
      "application/vnd.jupyter.widget-view+json": {
       "model_id": "",
       "version_major": 2,
       "version_minor": 0
      },
      "text/plain": [
       "HBox(children=(FloatProgress(value=0.0, max=128.0), HTML(value='')))"
      ]
     },
     "metadata": {},
     "output_type": "display_data"
    },
    {
     "data": {
      "application/vnd.jupyter.widget-view+json": {
       "model_id": "",
       "version_major": 2,
       "version_minor": 0
      },
      "text/plain": [
       "HBox(children=(FloatProgress(value=0.0, max=128.0), HTML(value='')))"
      ]
     },
     "metadata": {},
     "output_type": "display_data"
    },
    {
     "data": {
      "application/vnd.jupyter.widget-view+json": {
       "model_id": "",
       "version_major": 2,
       "version_minor": 0
      },
      "text/plain": [
       "HBox(children=(FloatProgress(value=0.0, max=128.0), HTML(value='')))"
      ]
     },
     "metadata": {},
     "output_type": "display_data"
    },
    {
     "data": {
      "application/vnd.jupyter.widget-view+json": {
       "model_id": "",
       "version_major": 2,
       "version_minor": 0
      },
      "text/plain": [
       "HBox(children=(FloatProgress(value=0.0, max=128.0), HTML(value='')))"
      ]
     },
     "metadata": {},
     "output_type": "display_data"
    },
    {
     "data": {
      "application/vnd.jupyter.widget-view+json": {
       "model_id": "",
       "version_major": 2,
       "version_minor": 0
      },
      "text/plain": [
       "HBox(children=(FloatProgress(value=0.0, max=128.0), HTML(value='')))"
      ]
     },
     "metadata": {},
     "output_type": "display_data"
    },
    {
     "data": {
      "application/vnd.jupyter.widget-view+json": {
       "model_id": "",
       "version_major": 2,
       "version_minor": 0
      },
      "text/plain": [
       "HBox(children=(FloatProgress(value=0.0, max=128.0), HTML(value='')))"
      ]
     },
     "metadata": {},
     "output_type": "display_data"
    },
    {
     "data": {
      "application/vnd.jupyter.widget-view+json": {
       "model_id": "",
       "version_major": 2,
       "version_minor": 0
      },
      "text/plain": [
       "HBox(children=(FloatProgress(value=0.0, max=128.0), HTML(value='')))"
      ]
     },
     "metadata": {},
     "output_type": "display_data"
    },
    {
     "data": {
      "application/vnd.jupyter.widget-view+json": {
       "model_id": "",
       "version_major": 2,
       "version_minor": 0
      },
      "text/plain": [
       "HBox(children=(FloatProgress(value=0.0, max=128.0), HTML(value='')))"
      ]
     },
     "metadata": {},
     "output_type": "display_data"
    },
    {
     "data": {
      "application/vnd.jupyter.widget-view+json": {
       "model_id": "",
       "version_major": 2,
       "version_minor": 0
      },
      "text/plain": [
       "HBox(children=(FloatProgress(value=0.0, max=128.0), HTML(value='')))"
      ]
     },
     "metadata": {},
     "output_type": "display_data"
    },
    {
     "data": {
      "application/vnd.jupyter.widget-view+json": {
       "model_id": "",
       "version_major": 2,
       "version_minor": 0
      },
      "text/plain": [
       "HBox(children=(FloatProgress(value=0.0, max=128.0), HTML(value='')))"
      ]
     },
     "metadata": {},
     "output_type": "display_data"
    },
    {
     "data": {
      "application/vnd.jupyter.widget-view+json": {
       "model_id": "",
       "version_major": 2,
       "version_minor": 0
      },
      "text/plain": [
       "HBox(children=(FloatProgress(value=0.0, max=128.0), HTML(value='')))"
      ]
     },
     "metadata": {},
     "output_type": "display_data"
    },
    {
     "data": {
      "application/vnd.jupyter.widget-view+json": {
       "model_id": "",
       "version_major": 2,
       "version_minor": 0
      },
      "text/plain": [
       "HBox(children=(FloatProgress(value=0.0, max=128.0), HTML(value='')))"
      ]
     },
     "metadata": {},
     "output_type": "display_data"
    },
    {
     "data": {
      "application/vnd.jupyter.widget-view+json": {
       "model_id": "",
       "version_major": 2,
       "version_minor": 0
      },
      "text/plain": [
       "HBox(children=(FloatProgress(value=0.0, max=128.0), HTML(value='')))"
      ]
     },
     "metadata": {},
     "output_type": "display_data"
    },
    {
     "data": {
      "application/vnd.jupyter.widget-view+json": {
       "model_id": "",
       "version_major": 2,
       "version_minor": 0
      },
      "text/plain": [
       "HBox(children=(FloatProgress(value=0.0, max=128.0), HTML(value='')))"
      ]
     },
     "metadata": {},
     "output_type": "display_data"
    },
    {
     "data": {
      "application/vnd.jupyter.widget-view+json": {
       "model_id": "",
       "version_major": 2,
       "version_minor": 0
      },
      "text/plain": [
       "HBox(children=(FloatProgress(value=0.0, max=128.0), HTML(value='')))"
      ]
     },
     "metadata": {},
     "output_type": "display_data"
    },
    {
     "data": {
      "application/vnd.jupyter.widget-view+json": {
       "model_id": "",
       "version_major": 2,
       "version_minor": 0
      },
      "text/plain": [
       "HBox(children=(FloatProgress(value=0.0, max=128.0), HTML(value='')))"
      ]
     },
     "metadata": {},
     "output_type": "display_data"
    },
    {
     "data": {
      "application/vnd.jupyter.widget-view+json": {
       "model_id": "",
       "version_major": 2,
       "version_minor": 0
      },
      "text/plain": [
       "HBox(children=(FloatProgress(value=0.0, max=128.0), HTML(value='')))"
      ]
     },
     "metadata": {},
     "output_type": "display_data"
    },
    {
     "data": {
      "application/vnd.jupyter.widget-view+json": {
       "model_id": "",
       "version_major": 2,
       "version_minor": 0
      },
      "text/plain": [
       "HBox(children=(FloatProgress(value=0.0, max=128.0), HTML(value='')))"
      ]
     },
     "metadata": {},
     "output_type": "display_data"
    },
    {
     "data": {
      "application/vnd.jupyter.widget-view+json": {
       "model_id": "",
       "version_major": 2,
       "version_minor": 0
      },
      "text/plain": [
       "HBox(children=(FloatProgress(value=0.0, max=128.0), HTML(value='')))"
      ]
     },
     "metadata": {},
     "output_type": "display_data"
    },
    {
     "data": {
      "application/vnd.jupyter.widget-view+json": {
       "model_id": "",
       "version_major": 2,
       "version_minor": 0
      },
      "text/plain": [
       "HBox(children=(FloatProgress(value=0.0, max=128.0), HTML(value='')))"
      ]
     },
     "metadata": {},
     "output_type": "display_data"
    },
    {
     "data": {
      "application/vnd.jupyter.widget-view+json": {
       "model_id": "",
       "version_major": 2,
       "version_minor": 0
      },
      "text/plain": [
       "HBox(children=(FloatProgress(value=0.0, max=128.0), HTML(value='')))"
      ]
     },
     "metadata": {},
     "output_type": "display_data"
    },
    {
     "name": "stdout",
     "output_type": "stream",
     "text": [
      "\n"
     ]
    }
   ],
   "source": [
    "from collections import defaultdict\n",
    "from tqdm.notebook import tqdm\n",
    "\n",
    "inp_max_rank = new_model.ingc.get_max_rank()\n",
    "other_max_rank = new_model.midlayer[0].model.hiddenlayers[0].get_max_rank()\n",
    "losses = np.zeros((inp_max_rank, other_max_rank))\n",
    "accs = np.zeros((inp_max_rank, other_max_rank))\n",
    "\n",
    "for r_inp in tqdm(range(1, inp_max_rank + 1)):\n",
    "    new_model.ingc.set_rank(r_inp)\n",
    "    for r_other in tqdm(range(1, other_max_rank + 1), leave=False):\n",
    "        for idx_layer in range(args['nbaseblocklayer']):\n",
    "            new_model.midlayer[0].model.hiddenlayers[idx_layer].set_rank(r_other)\n",
    "        loss, acc = test_model(new_model, test_adj, test_fea)\n",
    "        losses[r_inp - 1, r_other - 1] = loss\n",
    "        accs[r_inp - 1, r_other - 1] = acc\n",
    "# new_model.ingc.set_rank()"
   ]
  },
  {
   "cell_type": "code",
   "execution_count": 17,
   "metadata": {},
   "outputs": [
    {
     "data": {
      "image/png": "[encoded data removed]",
      "text/plain": [
       "<Figure size 864x504 with 1 Axes>"
      ]
     },
     "metadata": {
      "needs_background": "light"
     },
     "output_type": "display_data"
    }
   ],
   "source": [
    "best_inp_r, best_other_r = np.unravel_index(accs.argmax(), accs.shape)\n",
    "best_inp_r += 1\n",
    "best_other_r += 1\n",
    "\n",
    "plt.figure(figsize=(12, 7))\n",
    "\n",
    "\n",
    "plt.title('Pubmed, number of GCN in midlayer: {}'.format(args['nbaseblocklayer']), fontsize=16)\n",
    "\n",
    "plt.axhline(y=accs[-1][-1], color='r', linestyle='-', label=\"Base acc = {}\".format(accs[-1][-1]))\n",
    "plt.axhline(y=accs.max(), color='g', linestyle='-', \n",
    "            label=\"Best acc = {0}, achieved with $r_{{inp}} = {1}$, $r_{{mid}} = {2}$\".format(\n",
    "                accs.max(), best_inp_r, best_other_r))\n",
    "\n",
    "for r_inp in range(1, inp_max_rank + 1):\n",
    "    plt.plot(\n",
    "        range(1, other_max_rank + 1), accs[r_inp - 1],\n",
    "        alpha=0.2, color='cornflowerblue', label='Inputs after trunc.SVD' if r_inp == 1 else None\n",
    "    )\n",
    "plt.plot(range(1, other_max_rank + 1), accs[-1], color='darkblue', label='Full-rank input')\n",
    "\n",
    "plt.xlabel('$r$, rank of GCN layers with truncatedSVD', fontsize=14)\n",
    "plt.ylabel('accuracy', fontsize=14)\n",
    "# plt.ylim(0.68, 0.77)  # 2\n",
    "# plt.ylim(0.85, 0.905)  # 4\n",
    "# plt.ylim(0.8, 0.9)  # 8\n",
    "# plt.ylim(0.85, 0.9)  # 10\n",
    "plt.ylim(0.82, 0.862)  # 16\n",
    "plt.grid(ls=\":\")\n",
    "plt.legend(fontsize=12)\n",
    "plt.show()\n"
   ]
  }
 ],
 "metadata": {
  "kernelspec": {
   "display_name": "Python 3",
   "language": "python",
   "name": "python3"
  },
  "language_info": {
   "codemirror_mode": {
    "name": "ipython",
    "version": 3
   },
   "file_extension": ".py",
   "mimetype": "text/x-python",
   "name": "python",
   "nbconvert_exporter": "python",
   "pygments_lexer": "ipython3",
   "version": "3.7.3"
  }
 },
 "nbformat": 4,
 "nbformat_minor": 2
}
